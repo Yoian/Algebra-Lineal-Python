{
 "cells": [
  {
   "cell_type": "code",
   "execution_count": 1,
   "metadata": {},
   "outputs": [],
   "source": [
    "import numpy as np"
   ]
  },
  {
   "cell_type": "code",
   "execution_count": 2,
   "metadata": {},
   "outputs": [],
   "source": [
    "escalar1 = 5.898\n",
    "vector1 = np.array([1,2,3])\n",
    "matriz1= np.array([[1,2,12],[3,4,16]])\n",
    "tensor1 = np.array([\n",
    "[[125,125,125],[66,66,66],[76,123,200]],\n",
    "[[12,76,99],[100,100,0],[0,88,88]]\n",
    "])"
   ]
  },
  {
   "cell_type": "code",
   "execution_count": null,
   "metadata": {},
   "outputs": [],
   "source": []
  }
 ],
 "metadata": {
  "kernelspec": {
   "display_name": "venv",
   "language": "python",
   "name": "python3"
  },
  "language_info": {
   "codemirror_mode": {
    "name": "ipython",
    "version": 3
   },
   "file_extension": ".py",
   "mimetype": "text/x-python",
   "name": "python",
   "nbconvert_exporter": "python",
   "pygments_lexer": "ipython3",
   "version": "3.11.2"
  },
  "orig_nbformat": 4,
  "vscode": {
   "interpreter": {
    "hash": "c2b8110ddfc8ef7eb0720179cc538bc93c393968eeedd2de0c9e1948d3181a83"
   }
  }
 },
 "nbformat": 4,
 "nbformat_minor": 2
}
