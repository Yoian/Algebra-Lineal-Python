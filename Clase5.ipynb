{
 "cells": [
  {
   "cell_type": "code",
   "execution_count": 1,
   "metadata": {},
   "outputs": [],
   "source": [
    "import numpy as np"
   ]
  },
  {
   "cell_type": "code",
   "execution_count": 16,
   "metadata": {},
   "outputs": [
    {
     "name": "stdout",
     "output_type": "stream",
     "text": [
      "Este es nuestro vector:\n",
      " [1 2 3 4 5]\n"
     ]
    }
   ],
   "source": [
    "vector = np.array([1,2,3,4,5])\n",
    "print(\"Este es nuestro vector:\\n\",vector)"
   ]
  },
  {
   "cell_type": "code",
   "execution_count": 17,
   "metadata": {},
   "outputs": [
    {
     "name": "stdout",
     "output_type": "stream",
     "text": [
      "Este es nuestra matriz:\n",
      " [[ 1  2  3  4  5]\n",
      " [12 34 76 10 50]]\n"
     ]
    }
   ],
   "source": [
    "matriz = np.array([[1,2,3,4,5],[12,34,76,10,50]])\n",
    "print(\"Este es nuestra matriz:\\n\",matriz)"
   ]
  },
  {
   "cell_type": "code",
   "execution_count": 21,
   "metadata": {},
   "outputs": [
    {
     "name": "stdout",
     "output_type": "stream",
     "text": [
      "Este es nuestro tensor:\n",
      " [[[  1   2   3   4   5]\n",
      "  [ 10  20  30  40  50]\n",
      "  [100 200 300 400 500]]\n",
      "\n",
      " [[  9   8   7   6   5]\n",
      "  [ 90  80  70  60  50]\n",
      "  [900 800 700 600 500]]]\n"
     ]
    }
   ],
   "source": [
    "tensor = np.array([[[1,2,3,4,5],[10,20,30,40,50],[100,200,300,400,500]],\n",
    "                    [[9,8,7,6,5],[90,80,70,60,50],[900,800,700,600,500]]])\n",
    "print(\"Este es nuestro tensor:\\n\",tensor)"
   ]
  },
  {
   "cell_type": "code",
   "execution_count": 24,
   "metadata": {},
   "outputs": [
    {
     "name": "stdout",
     "output_type": "stream",
     "text": [
      "(2, 3, 5)\n",
      "30\n"
     ]
    }
   ],
   "source": [
    "print(np.shape(tensor))\n",
    "print(np.size(tensor))\n"
   ]
  },
  {
   "cell_type": "code",
   "execution_count": 25,
   "metadata": {},
   "outputs": [
    {
     "name": "stdout",
     "output_type": "stream",
     "text": [
      "Este es nuestro tensor transpuesto:\n",
      " [[[  1   9]\n",
      "  [ 10  90]\n",
      "  [100 900]]\n",
      "\n",
      " [[  2   8]\n",
      "  [ 20  80]\n",
      "  [200 800]]\n",
      "\n",
      " [[  3   7]\n",
      "  [ 30  70]\n",
      "  [300 700]]\n",
      "\n",
      " [[  4   6]\n",
      "  [ 40  60]\n",
      "  [400 600]]\n",
      "\n",
      " [[  5   5]\n",
      "  [ 50  50]\n",
      "  [500 500]]]\n",
      "(5, 3, 2)\n",
      "30\n"
     ]
    }
   ],
   "source": [
    "tensor_T=tensor.T\n",
    "print(\"Este es nuestro tensor transpuesto:\\n\",tensor_T)\n",
    "print(np.shape(tensor_T))\n",
    "print(np.size(tensor_T))"
   ]
  }
 ],
 "metadata": {
  "kernelspec": {
   "display_name": "venv",
   "language": "python",
   "name": "python3"
  },
  "language_info": {
   "codemirror_mode": {
    "name": "ipython",
    "version": 3
   },
   "file_extension": ".py",
   "mimetype": "text/x-python",
   "name": "python",
   "nbconvert_exporter": "python",
   "pygments_lexer": "ipython3",
   "version": "3.11.1"
  },
  "orig_nbformat": 4,
  "vscode": {
   "interpreter": {
    "hash": "4d1689751ec430a8e33694ecf13d1c79d3debe0b46e8731db85948bd37c3c309"
   }
  }
 },
 "nbformat": 4,
 "nbformat_minor": 2
}
