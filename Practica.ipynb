{
 "cells": [
  {
   "cell_type": "code",
   "execution_count": 1,
   "metadata": {},
   "outputs": [
    {
     "name": "stdout",
     "output_type": "stream",
     "text": [
      "Oaaaaaa mi amorcito <3\n"
     ]
    }
   ],
   "source": [
    "print(\"Oaaaaaa mi amorcito <3\")"
   ]
  },
  {
   "cell_type": "code",
   "execution_count": 2,
   "metadata": {},
   "outputs": [
    {
     "name": "stdout",
     "output_type": "stream",
     "text": [
      "[1 2 3 4]\n"
     ]
    }
   ],
   "source": [
    "import numpy as np\n",
    "vector = np.array([1,2,3,4])\n",
    "print(vector)"
   ]
  },
  {
   "cell_type": "code",
   "execution_count": 11,
   "metadata": {},
   "outputs": [
    {
     "name": "stdout",
     "output_type": "stream",
     "text": [
      "[[1 2 3 4]\n",
      " [5 6 7 8]]\n",
      "El valor 1,0 es 5\n",
      "[[1, 2, 3], [4, 5, 6]]\n",
      "El valor 1,0 es 4\n"
     ]
    }
   ],
   "source": [
    "matriz_np = np.array([[1,2,3,4],[5,6,7,8]])\n",
    "print(matriz_np)\n",
    "print(\"El valor 1,0 es\",matriz_np[1][0])\n",
    "\n",
    "matriz_Tradicional = [[1,2,3],[4,5,6]]\n",
    "print(matriz_Tradicional)\n",
    "print(\"El valor 1,0 es\",matriz_Tradicional[1][0])"
   ]
  },
  {
   "cell_type": "code",
   "execution_count": 25,
   "metadata": {},
   "outputs": [
    {
     "name": "stdout",
     "output_type": "stream",
     "text": [
      "[[[125 125 125]\n",
      "  [ 66  66  66]\n",
      "  [ 76 123 200]]\n",
      "\n",
      " [[ 12  76  99]\n",
      "  [100 100   0]\n",
      "  [  0  88  88]]]\n",
      "El valor 1,2,0 es 0\n",
      "[[[125, 125, 125], [255, 0, 0], [76, 123, 200]], [[12, 76, 99], [100, 100, 0], [0, 88, 88]]]\n",
      "El valor 1,2,0 es 0\n"
     ]
    }
   ],
   "source": [
    "tensor_np = np.array([\n",
    "[[125,125,125],[66,66,66],[76,123,200]],\n",
    "[[12,76,99],[100,100,0],[0,88,88]]\n",
    "])\n",
    "print(tensor_np)\n",
    "print(\"El valor 1,2,0 es\",tensor_np[1][2][0])\n",
    "\n",
    "tensor_Tradicional = [[[125,125,125],[255,0,0],[76,123,200]],\n",
    "[[12,76,99],[100,100,0],[0,88,88]]]\n",
    "print(tensor_Tradicional)\n",
    "print(\"El valor 1,2,0 es\",tensor_Tradicional[1][2][0])"
   ]
  },
  {
   "cell_type": "code",
   "execution_count": 16,
   "metadata": {},
   "outputs": [
    {
     "name": "stdout",
     "output_type": "stream",
     "text": [
      "[[[ 1  2  3  4]\n",
      "  [ 5  6  7  8]\n",
      "  [ 9 10 11 12]]\n",
      "\n",
      " [[13 14 15 16]\n",
      "  [17 18 19 20]\n",
      "  [21 22 23 24]]]\n"
     ]
    }
   ],
   "source": [
    "aaaa=np.array(tensor_Tradicional)\n",
    "print(aaaa)"
   ]
  },
  {
   "cell_type": "code",
   "execution_count": 19,
   "metadata": {},
   "outputs": [],
   "source": [
    "%matplotlib inline\n",
    "import matplotlib.pyplot as plt"
   ]
  },
  {
   "cell_type": "code",
   "execution_count": 26,
   "metadata": {},
   "outputs": [
    {
     "data": {
      "image/png": "[encoded data removed]",
      "text/plain": [
       "<Figure size 640x480 with 1 Axes>"
      ]
     },
     "metadata": {},
     "output_type": "display_data"
    }
   ],
   "source": [
    "plt.imshow(tensor_Tradicional,interpolation=\"nearest\")\n",
    "plt.show()"
   ]
  }
 ],
 "metadata": {
  "kernelspec": {
   "display_name": "venv",
   "language": "python",
   "name": "python3"
  },
  "language_info": {
   "codemirror_mode": {
    "name": "ipython",
    "version": 3
   },
   "file_extension": ".py",
   "mimetype": "text/x-python",
   "name": "python",
   "nbconvert_exporter": "python",
   "pygments_lexer": "ipython3",
   "version": "3.11.2"
  },
  "orig_nbformat": 4,
  "vscode": {
   "interpreter": {
    "hash": "c2b8110ddfc8ef7eb0720179cc538bc93c393968eeedd2de0c9e1948d3181a83"
   }
  }
 },
 "nbformat": 4,
 "nbformat_minor": 2
}
