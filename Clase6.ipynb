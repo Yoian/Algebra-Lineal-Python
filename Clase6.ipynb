{
 "cells": [
  {
   "cell_type": "code",
   "execution_count": 1,
   "metadata": {},
   "outputs": [],
   "source": [
    "import numpy as np"
   ]
  },
  {
   "cell_type": "code",
   "execution_count": 22,
   "metadata": {},
   "outputs": [],
   "source": [
    "escalar1 = 5.898\n",
    "vector1 = np.array([1,2,3])\n",
    "matriz1= np.array([[1,2,12],[3,4,16]])\n",
    "tensor1 = np.array([\n",
    "[[125,125,125],[66,66,66],[76,123,200]],\n",
    "[[12,76,99],[100,100,0],[0,88,88]]#,\n",
    "#[[23,55,200],[200,0,200],[200,230,10]]\n",
    "])"
   ]
  },
  {
   "cell_type": "code",
   "execution_count": 20,
   "metadata": {},
   "outputs": [
    {
     "data": {
      "text/plain": [
       "(2, 3, 3)"
      ]
     },
     "execution_count": 20,
     "metadata": {},
     "output_type": "execute_result"
    }
   ],
   "source": [
    "#vector1.shape\n",
    "#matriz1.shape\n",
    "tensor1.shape"
   ]
  },
  {
   "cell_type": "code",
   "execution_count": 11,
   "metadata": {},
   "outputs": [],
   "source": [
    "escalar2 = 5.898\n",
    "vector2 = [1,2,3]\n",
    "matriz2= [[1,2],[3,4]]\n",
    "tensor2 = [[[125,125,125],[66,66,66],[76,123,200]],\n",
    "[[12,76,99],[100,100,0],[0,88,88]],\n",
    "[[23,55,200],[200,0,200],[200,230,10]]]"
   ]
  },
  {
   "cell_type": "code",
   "execution_count": 21,
   "metadata": {},
   "outputs": [
    {
     "data": {
      "text/plain": [
       "18"
      ]
     },
     "execution_count": 21,
     "metadata": {},
     "output_type": "execute_result"
    }
   ],
   "source": [
    "tensor1.size"
   ]
  },
  {
   "cell_type": "code",
   "execution_count": 26,
   "metadata": {},
   "outputs": [
    {
     "name": "stdout",
     "output_type": "stream",
     "text": [
      "[[ 1  2 12]\n",
      " [ 3  4 16]] \n",
      "\n",
      " [[ 1  3]\n",
      " [ 2  4]\n",
      " [12 16]]\n"
     ]
    }
   ],
   "source": [
    "matriz1_t=matriz1.T\n",
    "print(matriz1,\"\\n\\n\",matriz1_t)"
   ]
  }
 ],
 "metadata": {
  "kernelspec": {
   "display_name": "venv",
   "language": "python",
   "name": "python3"
  },
  "language_info": {
   "codemirror_mode": {
    "name": "ipython",
    "version": 3
   },
   "file_extension": ".py",
   "mimetype": "text/x-python",
   "name": "python",
   "nbconvert_exporter": "python",
   "pygments_lexer": "ipython3",
   "version": "3.11.2"
  },
  "orig_nbformat": 4,
  "vscode": {
   "interpreter": {
    "hash": "c2b8110ddfc8ef7eb0720179cc538bc93c393968eeedd2de0c9e1948d3181a83"
   }
  }
 },
 "nbformat": 4,
 "nbformat_minor": 2
}
